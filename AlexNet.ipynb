{
  "nbformat": 4,
  "nbformat_minor": 0,
  "metadata": {
    "colab": {
      "provenance": []
    },
    "kernelspec": {
      "name": "python3",
      "display_name": "Python 3"
    },
    "language_info": {
      "name": "python"
    },
    "accelerator": "GPU",
    "gpuClass": "standard"
  },
  "cells": [
    {
      "cell_type": "markdown",
      "source": [
        "**AlexNet Practical**"
      ],
      "metadata": {
        "id": "RwbQFucWovGy"
      }
    },
    {
      "cell_type": "code",
      "source": [
        "import tensorflow as tf\n",
        "from tensorflow import keras\n",
        "import keras\n",
        "from keras.models import Sequential\n",
        "from keras.layers import Dense, Activation, Dropout, Flatten, Conv2D, MaxPooling2D\n",
        "from tensorflow.keras.layers import BatchNormalization"
      ],
      "metadata": {
        "id": "2KIyVGPlo2Gk"
      },
      "execution_count": 1,
      "outputs": []
    },
    {
      "cell_type": "code",
      "source": [
        "!pip install tflearn "
      ],
      "metadata": {
        "colab": {
          "base_uri": "https://localhost:8080/"
        },
        "id": "PhZOENfdpMvZ",
        "outputId": "2fcbf30a-31e8-4556-d647-bfb175608db4"
      },
      "execution_count": 2,
      "outputs": [
        {
          "output_type": "stream",
          "name": "stdout",
          "text": [
            "Looking in indexes: https://pypi.org/simple, https://us-python.pkg.dev/colab-wheels/public/simple/\n",
            "Collecting tflearn\n",
            "  Downloading tflearn-0.5.0.tar.gz (107 kB)\n",
            "\u001b[2K     \u001b[90m━━━━━━━━━━━━━━━━━━━━━━━━━━━━━━━━━━━━━━━\u001b[0m \u001b[32m107.3/107.3 KB\u001b[0m \u001b[31m8.5 MB/s\u001b[0m eta \u001b[36m0:00:00\u001b[0m\n",
            "\u001b[?25h  Preparing metadata (setup.py) ... \u001b[?25l\u001b[?25hdone\n",
            "Requirement already satisfied: numpy in /usr/local/lib/python3.8/dist-packages (from tflearn) (1.22.4)\n",
            "Requirement already satisfied: six in /usr/local/lib/python3.8/dist-packages (from tflearn) (1.15.0)\n",
            "Requirement already satisfied: Pillow in /usr/local/lib/python3.8/dist-packages (from tflearn) (7.1.2)\n",
            "Building wheels for collected packages: tflearn\n",
            "  Building wheel for tflearn (setup.py) ... \u001b[?25l\u001b[?25hdone\n",
            "  Created wheel for tflearn: filename=tflearn-0.5.0-py3-none-any.whl size=127299 sha256=a6bf29cfc5545868172278e072aa0881897312da96728557a830cf55165cae2f\n",
            "  Stored in directory: /root/.cache/pip/wheels/65/9b/15/cb1e6b279c14ed897530d15cfd7da8e3df8a947e593f5cfe59\n",
            "Successfully built tflearn\n",
            "Installing collected packages: tflearn\n",
            "Successfully installed tflearn-0.5.0\n"
          ]
        }
      ]
    },
    {
      "cell_type": "code",
      "source": [
        "# Get Data\n",
        "import tflearn.datasets.oxflower17 as oxflower17\n",
        "x, y = oxflower17.load_data(one_hot=True)"
      ],
      "metadata": {
        "colab": {
          "base_uri": "https://localhost:8080/"
        },
        "id": "mY2il_yCpPwV",
        "outputId": "99939c13-5668-40f7-b422-96b70f897f74"
      },
      "execution_count": 3,
      "outputs": [
        {
          "output_type": "stream",
          "name": "stderr",
          "text": [
            "WARNING:tensorflow:From /usr/local/lib/python3.8/dist-packages/tensorflow/python/compat/v2_compat.py:107: disable_resource_variables (from tensorflow.python.ops.variable_scope) is deprecated and will be removed in a future version.\n",
            "Instructions for updating:\n",
            "non-resource variables are not supported in the long term\n",
            "  0.2%   139264 / 60270631"
          ]
        },
        {
          "output_type": "stream",
          "name": "stdout",
          "text": [
            "Downloading Oxford 17 category Flower Dataset, Please wait...\n"
          ]
        },
        {
          "output_type": "stream",
          "name": "stderr",
          "text": [
            "100.0% 60276736 / 60270631\n"
          ]
        },
        {
          "output_type": "stream",
          "name": "stdout",
          "text": [
            "Succesfully downloaded 17flowers.tgz 60270631 bytes.\n",
            "File Extracted\n",
            "Starting to parse images...\n",
            "Parsing Done!\n"
          ]
        }
      ]
    },
    {
      "cell_type": "code",
      "source": [
        "x"
      ],
      "metadata": {
        "colab": {
          "base_uri": "https://localhost:8080/"
        },
        "id": "t2J0mBIgpUKN",
        "outputId": "b440c964-bfd3-41eb-9d03-a19e081cfaf2"
      },
      "execution_count": 4,
      "outputs": [
        {
          "output_type": "execute_result",
          "data": {
            "text/plain": [
              "array([[[[0.09803922, 0.12941177, 0.20392157],\n",
              "         [0.10196079, 0.12941177, 0.19607843],\n",
              "         [0.11372549, 0.13333334, 0.1882353 ],\n",
              "         ...,\n",
              "         [0.1254902 , 0.1254902 , 0.1254902 ],\n",
              "         [0.1254902 , 0.1254902 , 0.1254902 ],\n",
              "         [0.1254902 , 0.1254902 , 0.1254902 ]],\n",
              "\n",
              "        [[0.10588235, 0.12941177, 0.19215687],\n",
              "         [0.11372549, 0.13333334, 0.1882353 ],\n",
              "         [0.11372549, 0.12941177, 0.1764706 ],\n",
              "         ...,\n",
              "         [0.12941177, 0.12941177, 0.12941177],\n",
              "         [0.1254902 , 0.1254902 , 0.1254902 ],\n",
              "         [0.1254902 , 0.1254902 , 0.1254902 ]],\n",
              "\n",
              "        [[0.12156863, 0.1254902 , 0.16470589],\n",
              "         [0.1254902 , 0.12941177, 0.16862746],\n",
              "         [0.14901961, 0.14901961, 0.18039216],\n",
              "         ...,\n",
              "         [0.12941177, 0.12941177, 0.12941177],\n",
              "         [0.1254902 , 0.1254902 , 0.1254902 ],\n",
              "         [0.1254902 , 0.1254902 , 0.1254902 ]],\n",
              "\n",
              "        ...,\n",
              "\n",
              "        [[0.34117648, 0.20784314, 0.23137255],\n",
              "         [0.29803923, 0.18039216, 0.2       ],\n",
              "         [0.27450982, 0.17254902, 0.18431373],\n",
              "         ...,\n",
              "         [0.12941177, 0.12941177, 0.12941177],\n",
              "         [0.1254902 , 0.1254902 , 0.1254902 ],\n",
              "         [0.1254902 , 0.1254902 , 0.1254902 ]],\n",
              "\n",
              "        [[0.3372549 , 0.19607843, 0.22745098],\n",
              "         [0.32156864, 0.2       , 0.22352941],\n",
              "         [0.3019608 , 0.19607843, 0.21176471],\n",
              "         ...,\n",
              "         [0.12941177, 0.12941177, 0.12941177],\n",
              "         [0.1254902 , 0.1254902 , 0.1254902 ],\n",
              "         [0.1254902 , 0.1254902 , 0.1254902 ]],\n",
              "\n",
              "        [[0.39215687, 0.2509804 , 0.27058825],\n",
              "         [0.3529412 , 0.22352941, 0.24313726],\n",
              "         [0.3372549 , 0.22745098, 0.23921569],\n",
              "         ...,\n",
              "         [0.12941177, 0.12941177, 0.12941177],\n",
              "         [0.1254902 , 0.1254902 , 0.1254902 ],\n",
              "         [0.1254902 , 0.1254902 , 0.1254902 ]]],\n",
              "\n",
              "\n",
              "       [[[0.45490196, 0.53333336, 0.14509805],\n",
              "         [0.4627451 , 0.5411765 , 0.15294118],\n",
              "         [0.45882353, 0.5372549 , 0.14901961],\n",
              "         ...,\n",
              "         [0.40392157, 0.35686275, 0.20392157],\n",
              "         [0.39215687, 0.34509805, 0.1882353 ],\n",
              "         [0.38431373, 0.3372549 , 0.18039216]],\n",
              "\n",
              "        [[0.45490196, 0.53333336, 0.14509805],\n",
              "         [0.4627451 , 0.5411765 , 0.15294118],\n",
              "         [0.4627451 , 0.5411765 , 0.15294118],\n",
              "         ...,\n",
              "         [0.41568628, 0.36862746, 0.21960784],\n",
              "         [0.4       , 0.3529412 , 0.19607843],\n",
              "         [0.39215687, 0.34509805, 0.18039216]],\n",
              "\n",
              "        [[0.45490196, 0.53333336, 0.14509805],\n",
              "         [0.4627451 , 0.5411765 , 0.15294118],\n",
              "         [0.4627451 , 0.5411765 , 0.15294118],\n",
              "         ...,\n",
              "         [0.41960785, 0.37254903, 0.21960784],\n",
              "         [0.40392157, 0.36078432, 0.19607843],\n",
              "         [0.39607844, 0.3529412 , 0.18039216]],\n",
              "\n",
              "        ...,\n",
              "\n",
              "        [[0.17254902, 0.19215687, 0.05098039],\n",
              "         [0.40392157, 0.43137255, 0.23921569],\n",
              "         [0.33333334, 0.37254903, 0.11764706],\n",
              "         ...,\n",
              "         [0.56078434, 0.6039216 , 0.34509805],\n",
              "         [0.5372549 , 0.58431375, 0.29411766],\n",
              "         [0.54509807, 0.59607846, 0.29803923]],\n",
              "\n",
              "        [[0.36078432, 0.38039216, 0.11764706],\n",
              "         [0.49019608, 0.52156866, 0.24313726],\n",
              "         [0.31764707, 0.36862746, 0.06666667],\n",
              "         ...,\n",
              "         [0.54901963, 0.5921569 , 0.33333334],\n",
              "         [0.6156863 , 0.65882355, 0.36078432],\n",
              "         [0.5803922 , 0.627451  , 0.32156864]],\n",
              "\n",
              "        [[0.5137255 , 0.53333336, 0.23529412],\n",
              "         [0.52156866, 0.5529412 , 0.24705882],\n",
              "         [0.32941177, 0.38039216, 0.06666667],\n",
              "         ...,\n",
              "         [0.50980395, 0.5529412 , 0.28627452],\n",
              "         [0.5529412 , 0.59607846, 0.29803923],\n",
              "         [0.5294118 , 0.5686275 , 0.25882354]]],\n",
              "\n",
              "\n",
              "       [[[0.15294118, 0.2509804 , 0.6039216 ],\n",
              "         [0.15294118, 0.2509804 , 0.6039216 ],\n",
              "         [0.15294118, 0.2509804 , 0.6039216 ],\n",
              "         ...,\n",
              "         [0.17254902, 0.27450982, 0.64705884],\n",
              "         [0.17254902, 0.27450982, 0.64705884],\n",
              "         [0.17254902, 0.27450982, 0.64705884]],\n",
              "\n",
              "        [[0.15686275, 0.25490198, 0.60784316],\n",
              "         [0.15686275, 0.25490198, 0.60784316],\n",
              "         [0.15686275, 0.25490198, 0.60784316],\n",
              "         ...,\n",
              "         [0.1764706 , 0.2784314 , 0.6509804 ],\n",
              "         [0.1764706 , 0.2784314 , 0.6509804 ],\n",
              "         [0.1764706 , 0.2784314 , 0.6509804 ]],\n",
              "\n",
              "        [[0.16078432, 0.25882354, 0.61960787],\n",
              "         [0.16078432, 0.25882354, 0.61960787],\n",
              "         [0.16078432, 0.25882354, 0.61960787],\n",
              "         ...,\n",
              "         [0.18039216, 0.28235295, 0.654902  ],\n",
              "         [0.18039216, 0.28235295, 0.654902  ],\n",
              "         [0.18039216, 0.28235295, 0.654902  ]],\n",
              "\n",
              "        ...,\n",
              "\n",
              "        [[0.28235295, 0.34901962, 0.30980393],\n",
              "         [0.28627452, 0.34901962, 0.30980393],\n",
              "         [0.2784314 , 0.34117648, 0.3019608 ],\n",
              "         ...,\n",
              "         [0.03137255, 0.04313726, 0.01568628],\n",
              "         [0.01960784, 0.02745098, 0.00784314],\n",
              "         [0.01960784, 0.02352941, 0.00784314]],\n",
              "\n",
              "        [[0.27450982, 0.33333334, 0.29411766],\n",
              "         [0.27450982, 0.33333334, 0.29411766],\n",
              "         [0.2784314 , 0.3372549 , 0.3019608 ],\n",
              "         ...,\n",
              "         [0.01176471, 0.01960784, 0.00392157],\n",
              "         [0.        , 0.00392157, 0.        ],\n",
              "         [0.01176471, 0.01176471, 0.00784314]],\n",
              "\n",
              "        [[0.27450982, 0.3254902 , 0.2901961 ],\n",
              "         [0.27058825, 0.32156864, 0.28627452],\n",
              "         [0.28627452, 0.3372549 , 0.3019608 ],\n",
              "         ...,\n",
              "         [0.00392157, 0.        , 0.        ],\n",
              "         [0.        , 0.00392157, 0.00392157],\n",
              "         [0.00784314, 0.00784314, 0.01568628]]],\n",
              "\n",
              "\n",
              "       ...,\n",
              "\n",
              "\n",
              "       [[[0.05098039, 0.02352941, 0.05490196],\n",
              "         [0.07058824, 0.04313726, 0.07450981],\n",
              "         [0.05882353, 0.03529412, 0.05882353],\n",
              "         ...,\n",
              "         [0.03529412, 0.01568628, 0.03921569],\n",
              "         [0.04705882, 0.03137255, 0.05098039],\n",
              "         [0.06666667, 0.04705882, 0.07058824]],\n",
              "\n",
              "        [[0.06666667, 0.04313726, 0.07058824],\n",
              "         [0.07843138, 0.05098039, 0.07843138],\n",
              "         [0.05490196, 0.03137255, 0.05098039],\n",
              "         ...,\n",
              "         [0.04313726, 0.03529412, 0.05490196],\n",
              "         [0.04313726, 0.03529412, 0.05490196],\n",
              "         [0.04705882, 0.03921569, 0.05882353]],\n",
              "\n",
              "        [[0.04313726, 0.01568628, 0.04313726],\n",
              "         [0.05490196, 0.02745098, 0.05098039],\n",
              "         [0.03921569, 0.01568628, 0.03137255],\n",
              "         ...,\n",
              "         [0.02352941, 0.01568628, 0.03529412],\n",
              "         [0.02745098, 0.01960784, 0.03921569],\n",
              "         [0.02352941, 0.01960784, 0.03921569]],\n",
              "\n",
              "        ...,\n",
              "\n",
              "        [[0.35686275, 0.3019608 , 0.26666668],\n",
              "         [0.35686275, 0.3019608 , 0.26666668],\n",
              "         [0.3529412 , 0.29803923, 0.25490198],\n",
              "         ...,\n",
              "         [0.09411765, 0.20392157, 0.10588235],\n",
              "         [0.11372549, 0.21176471, 0.11764706],\n",
              "         [0.1764706 , 0.27058825, 0.18039216]],\n",
              "\n",
              "        [[0.3137255 , 0.27058825, 0.22745098],\n",
              "         [0.33333334, 0.28235295, 0.23921569],\n",
              "         [0.34509805, 0.2901961 , 0.24705882],\n",
              "         ...,\n",
              "         [0.05882353, 0.16078432, 0.07450981],\n",
              "         [0.07843138, 0.1764706 , 0.08627451],\n",
              "         [0.14117648, 0.23137255, 0.14117648]],\n",
              "\n",
              "        [[0.3254902 , 0.28627452, 0.23921569],\n",
              "         [0.34117648, 0.29411766, 0.24705882],\n",
              "         [0.34901962, 0.29803923, 0.25490198],\n",
              "         ...,\n",
              "         [0.05490196, 0.15294118, 0.07058824],\n",
              "         [0.05098039, 0.14509805, 0.05882353],\n",
              "         [0.09803922, 0.1882353 , 0.10588235]]],\n",
              "\n",
              "\n",
              "       [[[0.30980393, 0.34901962, 0.14901961],\n",
              "         [0.3019608 , 0.34117648, 0.14117648],\n",
              "         [0.28627452, 0.32156864, 0.13725491],\n",
              "         ...,\n",
              "         [0.25882354, 0.32156864, 0.13725491],\n",
              "         [0.2784314 , 0.34117648, 0.15294118],\n",
              "         [0.29803923, 0.36078432, 0.17254902]],\n",
              "\n",
              "        [[0.3019608 , 0.34117648, 0.14117648],\n",
              "         [0.2901961 , 0.32941177, 0.13333334],\n",
              "         [0.2784314 , 0.3137255 , 0.12941177],\n",
              "         ...,\n",
              "         [0.2509804 , 0.3137255 , 0.13725491],\n",
              "         [0.27058825, 0.33333334, 0.15294118],\n",
              "         [0.2901961 , 0.3529412 , 0.17254902]],\n",
              "\n",
              "        [[0.28627452, 0.3254902 , 0.12941177],\n",
              "         [0.2784314 , 0.3137255 , 0.1254902 ],\n",
              "         [0.2627451 , 0.29803923, 0.12156863],\n",
              "         ...,\n",
              "         [0.24313726, 0.30588236, 0.12941177],\n",
              "         [0.25882354, 0.32156864, 0.14901961],\n",
              "         [0.2784314 , 0.34117648, 0.16470589]],\n",
              "\n",
              "        ...,\n",
              "\n",
              "        [[0.3529412 , 0.40392157, 0.19215687],\n",
              "         [0.3372549 , 0.3882353 , 0.18039216],\n",
              "         [0.3254902 , 0.37254903, 0.1764706 ],\n",
              "         ...,\n",
              "         [0.27450982, 0.30588236, 0.15294118],\n",
              "         [0.2784314 , 0.30980393, 0.15686275],\n",
              "         [0.28235295, 0.30980393, 0.16078432]],\n",
              "\n",
              "        [[0.34117648, 0.39607844, 0.17254902],\n",
              "         [0.32941177, 0.3882353 , 0.16862746],\n",
              "         [0.32156864, 0.38039216, 0.16470589],\n",
              "         ...,\n",
              "         [0.2784314 , 0.31764707, 0.15686275],\n",
              "         [0.28235295, 0.3254902 , 0.16078432],\n",
              "         [0.28627452, 0.32941177, 0.16470589]],\n",
              "\n",
              "        [[0.3372549 , 0.39607844, 0.16862746],\n",
              "         [0.32941177, 0.3882353 , 0.16470589],\n",
              "         [0.32156864, 0.38039216, 0.16470589],\n",
              "         ...,\n",
              "         [0.28627452, 0.32941177, 0.16470589],\n",
              "         [0.2901961 , 0.33333334, 0.16862746],\n",
              "         [0.29411766, 0.3372549 , 0.17254902]]],\n",
              "\n",
              "\n",
              "       [[[0.30588236, 0.4627451 , 0.08235294],\n",
              "         [0.3254902 , 0.49019608, 0.10588235],\n",
              "         [0.30980393, 0.49803922, 0.10588235],\n",
              "         ...,\n",
              "         [0.3137255 , 0.49411765, 0.13333334],\n",
              "         [0.34901962, 0.5411765 , 0.11372549],\n",
              "         [0.3254902 , 0.5294118 , 0.03921569]],\n",
              "\n",
              "        [[0.27058825, 0.42745098, 0.03921569],\n",
              "         [0.32156864, 0.49411765, 0.10196079],\n",
              "         [0.31764707, 0.5019608 , 0.10588235],\n",
              "         ...,\n",
              "         [0.2901961 , 0.47058824, 0.11372549],\n",
              "         [0.33333334, 0.5254902 , 0.09803922],\n",
              "         [0.31764707, 0.52156866, 0.03137255]],\n",
              "\n",
              "        [[0.2627451 , 0.43137255, 0.01568628],\n",
              "         [0.3019608 , 0.4745098 , 0.05882353],\n",
              "         [0.32941177, 0.5176471 , 0.10980392],\n",
              "         ...,\n",
              "         [0.29411766, 0.4745098 , 0.11372549],\n",
              "         [0.3254902 , 0.5176471 , 0.09019608],\n",
              "         [0.30980393, 0.5137255 , 0.02745098]],\n",
              "\n",
              "        ...,\n",
              "\n",
              "        [[0.3882353 , 0.32156864, 0.5137255 ],\n",
              "         [0.3137255 , 0.32941177, 0.25882354],\n",
              "         [0.23529412, 0.3019608 , 0.08627451],\n",
              "         ...,\n",
              "         [0.17254902, 0.16078432, 0.08235294],\n",
              "         [0.2784314 , 0.2784314 , 0.14509805],\n",
              "         [0.37254903, 0.38431373, 0.20392157]],\n",
              "\n",
              "        [[0.32156864, 0.34117648, 0.4       ],\n",
              "         [0.27450982, 0.3372549 , 0.17254902],\n",
              "         [0.23921569, 0.3019608 , 0.05098039],\n",
              "         ...,\n",
              "         [0.2509804 , 0.25490198, 0.09019608],\n",
              "         [0.3647059 , 0.38431373, 0.14901961],\n",
              "         [0.42745098, 0.44313726, 0.20784314]],\n",
              "\n",
              "        [[0.2901961 , 0.3372549 , 0.35686275],\n",
              "         [0.2627451 , 0.3372549 , 0.14509805],\n",
              "         [0.24705882, 0.3019608 , 0.04313726],\n",
              "         ...,\n",
              "         [0.34117648, 0.34901962, 0.16862746],\n",
              "         [0.43529412, 0.45490196, 0.19215687],\n",
              "         [0.4509804 , 0.46666667, 0.21960784]]]], dtype=float32)"
            ]
          },
          "metadata": {},
          "execution_count": 4
        }
      ]
    },
    {
      "cell_type": "code",
      "source": [
        "y"
      ],
      "metadata": {
        "colab": {
          "base_uri": "https://localhost:8080/"
        },
        "id": "tnDSXSUypWdT",
        "outputId": "542213d3-d88c-4d8e-a488-59b5513ea465"
      },
      "execution_count": 5,
      "outputs": [
        {
          "output_type": "execute_result",
          "data": {
            "text/plain": [
              "array([[0., 0., 0., ..., 0., 0., 0.],\n",
              "       [0., 0., 0., ..., 0., 0., 0.],\n",
              "       [0., 0., 0., ..., 0., 0., 1.],\n",
              "       ...,\n",
              "       [0., 1., 0., ..., 0., 0., 0.],\n",
              "       [0., 0., 0., ..., 0., 0., 0.],\n",
              "       [0., 0., 0., ..., 0., 0., 0.]])"
            ]
          },
          "metadata": {},
          "execution_count": 5
        }
      ]
    },
    {
      "cell_type": "code",
      "source": [
        "x.shape"
      ],
      "metadata": {
        "colab": {
          "base_uri": "https://localhost:8080/"
        },
        "id": "UkYafgyMpc5e",
        "outputId": "e13fc6d7-a5b3-412d-f40d-723ef48d07e5"
      },
      "execution_count": 6,
      "outputs": [
        {
          "output_type": "execute_result",
          "data": {
            "text/plain": [
              "(1360, 224, 224, 3)"
            ]
          },
          "metadata": {},
          "execution_count": 6
        }
      ]
    },
    {
      "cell_type": "code",
      "source": [
        "y.shape"
      ],
      "metadata": {
        "colab": {
          "base_uri": "https://localhost:8080/"
        },
        "id": "25jOMno3pex_",
        "outputId": "78fbaf37-eb27-4052-a600-18575958bfbf"
      },
      "execution_count": 7,
      "outputs": [
        {
          "output_type": "execute_result",
          "data": {
            "text/plain": [
              "(1360, 17)"
            ]
          },
          "metadata": {},
          "execution_count": 7
        }
      ]
    },
    {
      "cell_type": "code",
      "source": [
        "# Create a sequential model\n",
        "model = Sequential()\n",
        "\n",
        "# 1st Convolutional Layer\n",
        "model.add(Conv2D(filters=96, input_shape=(224,224,3), kernel_size=(11,11), strides=(4,4), padding='valid'))\n",
        "model.add(Activation('relu'))\n",
        "\n",
        "# Pooling \n",
        "model.add(MaxPooling2D(pool_size=(3,3), strides=(2,2), padding='valid'))\n",
        "# Batch Normalisation before passing it to the next layer\n",
        "model.add(BatchNormalization())\n",
        "\n",
        "# 2nd Convolutional Layer\n",
        "model.add(Conv2D(filters=256, kernel_size=(5,5), strides=(1,1), padding='same'))\n",
        "model.add(Activation('relu'))\n",
        "\n",
        "# Pooling\n",
        "model.add(MaxPooling2D(pool_size=(3,3), strides=(2,2), padding='valid'))\n",
        "# Batch Normalisation\n",
        "model.add(BatchNormalization())\n",
        "\n",
        "\n",
        "\n",
        "# 3rd Convolutional Layer\n",
        "model.add(Conv2D(filters=384, kernel_size=(3,3), strides=(1,1), padding='valid'))\n",
        "model.add(Activation('relu'))\n",
        "# Batch Normalisation\n",
        "model.add(BatchNormalization())\n",
        "\n",
        "# 4th Convolutional Layer\n",
        "model.add(Conv2D(filters=384, kernel_size=(3,3), strides=(1,1), padding='valid'))\n",
        "model.add(Activation('relu'))\n",
        "# Batch Normalisation\n",
        "model.add(BatchNormalization())\n",
        "\n",
        "\n",
        "# 5th Convolutional Layer\n",
        "model.add(Conv2D(filters=256, kernel_size=(3,3), strides=(1,1), padding='valid'))\n",
        "model.add(Activation('relu'))\n",
        "\n",
        "\n",
        "# Pooling\n",
        "model.add(MaxPooling2D(pool_size=(3,3), strides=(2,2), padding='valid'))\n",
        "# Batch Normalisation\n",
        "model.add(BatchNormalization())\n",
        "\n",
        "\n",
        "# Passing it to a dense layer\n",
        "model.add(Flatten())\n",
        "\n",
        "# 1st Dense Layer\n",
        "model.add(Dense(4096, input_shape=(224*224*3,)))\n",
        "model.add(Activation('relu'))\n",
        "# Add Dropout to prevent overfitting\n",
        "model.add(Dropout(0.4))\n",
        "# Batch Normalisation\n",
        "model.add(BatchNormalization())\n",
        "\n",
        "# 2nd Dense Layer\n",
        "model.add(Dense(4096))\n",
        "model.add(Activation('relu'))\n",
        "# Add Dropout\n",
        "model.add(Dropout(0.4))\n",
        "# Batch Normalisation\n",
        "model.add(BatchNormalization())\n",
        "\n",
        "# Output Layer\n",
        "model.add(Dense(17))\n",
        "model.add(Activation('softmax'))\n",
        "\n",
        "model.summary()"
      ],
      "metadata": {
        "colab": {
          "base_uri": "https://localhost:8080/"
        },
        "id": "z88ujGX9pkkc",
        "outputId": "d8798606-d285-4d32-86c9-d2b0e40aa0a6"
      },
      "execution_count": 9,
      "outputs": [
        {
          "output_type": "stream",
          "name": "stderr",
          "text": [
            "WARNING:tensorflow:From /usr/local/lib/python3.8/dist-packages/keras/layers/normalization/batch_normalization.py:561: _colocate_with (from tensorflow.python.framework.ops) is deprecated and will be removed in a future version.\n",
            "Instructions for updating:\n",
            "Colocations handled automatically by placer.\n"
          ]
        },
        {
          "output_type": "stream",
          "name": "stdout",
          "text": [
            "Model: \"sequential_1\"\n",
            "_________________________________________________________________\n",
            " Layer (type)                Output Shape              Param #   \n",
            "=================================================================\n",
            " conv2d (Conv2D)             (None, 54, 54, 96)        34944     \n",
            "                                                                 \n",
            " activation (Activation)     (None, 54, 54, 96)        0         \n",
            "                                                                 \n",
            " max_pooling2d (MaxPooling2D  (None, 26, 26, 96)       0         \n",
            " )                                                               \n",
            "                                                                 \n",
            " batch_normalization (BatchN  (None, 26, 26, 96)       384       \n",
            " ormalization)                                                   \n",
            "                                                                 \n",
            " conv2d_1 (Conv2D)           (None, 26, 26, 256)       614656    \n",
            "                                                                 \n",
            " activation_1 (Activation)   (None, 26, 26, 256)       0         \n",
            "                                                                 \n",
            " max_pooling2d_1 (MaxPooling  (None, 12, 12, 256)      0         \n",
            " 2D)                                                             \n",
            "                                                                 \n",
            " batch_normalization_1 (Batc  (None, 12, 12, 256)      1024      \n",
            " hNormalization)                                                 \n",
            "                                                                 \n",
            " conv2d_2 (Conv2D)           (None, 10, 10, 384)       885120    \n",
            "                                                                 \n",
            " activation_2 (Activation)   (None, 10, 10, 384)       0         \n",
            "                                                                 \n",
            " batch_normalization_2 (Batc  (None, 10, 10, 384)      1536      \n",
            " hNormalization)                                                 \n",
            "                                                                 \n",
            " conv2d_3 (Conv2D)           (None, 8, 8, 384)         1327488   \n",
            "                                                                 \n",
            " activation_3 (Activation)   (None, 8, 8, 384)         0         \n",
            "                                                                 \n",
            " batch_normalization_3 (Batc  (None, 8, 8, 384)        1536      \n",
            " hNormalization)                                                 \n",
            "                                                                 \n",
            " conv2d_4 (Conv2D)           (None, 6, 6, 256)         884992    \n",
            "                                                                 \n",
            " activation_4 (Activation)   (None, 6, 6, 256)         0         \n",
            "                                                                 \n",
            " max_pooling2d_2 (MaxPooling  (None, 2, 2, 256)        0         \n",
            " 2D)                                                             \n",
            "                                                                 \n",
            " batch_normalization_4 (Batc  (None, 2, 2, 256)        1024      \n",
            " hNormalization)                                                 \n",
            "                                                                 \n",
            " flatten (Flatten)           (None, 1024)              0         \n",
            "                                                                 \n",
            " dense (Dense)               (None, 4096)              4198400   \n",
            "                                                                 \n",
            " activation_5 (Activation)   (None, 4096)              0         \n",
            "                                                                 \n",
            " dropout (Dropout)           (None, 4096)              0         \n",
            "                                                                 \n",
            " batch_normalization_5 (Batc  (None, 4096)             16384     \n",
            " hNormalization)                                                 \n",
            "                                                                 \n",
            " dense_1 (Dense)             (None, 4096)              16781312  \n",
            "                                                                 \n",
            " activation_6 (Activation)   (None, 4096)              0         \n",
            "                                                                 \n",
            " dropout_1 (Dropout)         (None, 4096)              0         \n",
            "                                                                 \n",
            " batch_normalization_6 (Batc  (None, 4096)             16384     \n",
            " hNormalization)                                                 \n",
            "                                                                 \n",
            " dense_2 (Dense)             (None, 17)                69649     \n",
            "                                                                 \n",
            " activation_7 (Activation)   (None, 17)                0         \n",
            "                                                                 \n",
            "=================================================================\n",
            "Total params: 24,834,833\n",
            "Trainable params: 24,815,697\n",
            "Non-trainable params: 19,136\n",
            "_________________________________________________________________\n"
          ]
        }
      ]
    },
    {
      "cell_type": "code",
      "source": [
        "!pip install tensorflow-addons==0.16.1"
      ],
      "metadata": {
        "colab": {
          "base_uri": "https://localhost:8080/"
        },
        "id": "6ycBqDx9pzKW",
        "outputId": "45a37bc6-7381-4b0c-c72e-7d0a443d1594"
      },
      "execution_count": 10,
      "outputs": [
        {
          "output_type": "stream",
          "name": "stdout",
          "text": [
            "Looking in indexes: https://pypi.org/simple, https://us-python.pkg.dev/colab-wheels/public/simple/\n",
            "Collecting tensorflow-addons==0.16.1\n",
            "  Downloading tensorflow_addons-0.16.1-cp38-cp38-manylinux_2_12_x86_64.manylinux2010_x86_64.whl (1.1 MB)\n",
            "\u001b[2K     \u001b[90m━━━━━━━━━━━━━━━━━━━━━━━━━━━━━━━━━━━━━━━━\u001b[0m \u001b[32m1.1/1.1 MB\u001b[0m \u001b[31m35.6 MB/s\u001b[0m eta \u001b[36m0:00:00\u001b[0m\n",
            "\u001b[?25hRequirement already satisfied: typeguard>=2.7 in /usr/local/lib/python3.8/dist-packages (from tensorflow-addons==0.16.1) (2.7.1)\n",
            "Installing collected packages: tensorflow-addons\n",
            "Successfully installed tensorflow-addons-0.16.1\n"
          ]
        }
      ]
    },
    {
      "cell_type": "code",
      "source": [
        "# Compile \n",
        "opt = tf.optimizers.Adam(learning_rate = 0.01)\n",
        "model.compile(loss='categorical_crossentropy', optimizer=opt, metrics=['accuracy'])"
      ],
      "metadata": {
        "colab": {
          "base_uri": "https://localhost:8080/",
          "height": 380
        },
        "id": "tdB27EeGp6zH",
        "outputId": "2cffc81e-bc21-40ea-e5e5-1fee7ca51922"
      },
      "execution_count": 11,
      "outputs": [
        {
          "output_type": "error",
          "ename": "NotImplementedError",
          "evalue": "ignored",
          "traceback": [
            "\u001b[0;31m---------------------------------------------------------------------------\u001b[0m",
            "\u001b[0;31mNotImplementedError\u001b[0m                       Traceback (most recent call last)",
            "\u001b[0;32m<ipython-input-11-4f616a8ab371>\u001b[0m in \u001b[0;36m<module>\u001b[0;34m\u001b[0m\n\u001b[1;32m      1\u001b[0m \u001b[0;31m# Compile\u001b[0m\u001b[0;34m\u001b[0m\u001b[0;34m\u001b[0m\u001b[0;34m\u001b[0m\u001b[0m\n\u001b[1;32m      2\u001b[0m \u001b[0mopt\u001b[0m \u001b[0;34m=\u001b[0m \u001b[0mtf\u001b[0m\u001b[0;34m.\u001b[0m\u001b[0moptimizers\u001b[0m\u001b[0;34m.\u001b[0m\u001b[0mAdam\u001b[0m\u001b[0;34m(\u001b[0m\u001b[0mlearning_rate\u001b[0m \u001b[0;34m=\u001b[0m \u001b[0;36m0.01\u001b[0m\u001b[0;34m)\u001b[0m\u001b[0;34m\u001b[0m\u001b[0;34m\u001b[0m\u001b[0m\n\u001b[0;32m----> 3\u001b[0;31m \u001b[0mmodel\u001b[0m\u001b[0;34m.\u001b[0m\u001b[0mcompile\u001b[0m\u001b[0;34m(\u001b[0m\u001b[0mloss\u001b[0m\u001b[0;34m=\u001b[0m\u001b[0;34m'categorical_crossentropy'\u001b[0m\u001b[0;34m,\u001b[0m \u001b[0moptimizer\u001b[0m\u001b[0;34m=\u001b[0m\u001b[0mopt\u001b[0m\u001b[0;34m,\u001b[0m \u001b[0mmetrics\u001b[0m\u001b[0;34m=\u001b[0m\u001b[0;34m[\u001b[0m\u001b[0;34m'accuracy'\u001b[0m\u001b[0;34m]\u001b[0m\u001b[0;34m)\u001b[0m\u001b[0;34m\u001b[0m\u001b[0;34m\u001b[0m\u001b[0m\n\u001b[0m",
            "\u001b[0;32m/usr/local/lib/python3.8/dist-packages/tensorflow/python/trackable/base.py\u001b[0m in \u001b[0;36m_method_wrapper\u001b[0;34m(self, *args, **kwargs)\u001b[0m\n\u001b[1;32m    203\u001b[0m     \u001b[0mself\u001b[0m\u001b[0;34m.\u001b[0m\u001b[0m_self_setattr_tracking\u001b[0m \u001b[0;34m=\u001b[0m \u001b[0;32mFalse\u001b[0m  \u001b[0;31m# pylint: disable=protected-access\u001b[0m\u001b[0;34m\u001b[0m\u001b[0;34m\u001b[0m\u001b[0m\n\u001b[1;32m    204\u001b[0m     \u001b[0;32mtry\u001b[0m\u001b[0;34m:\u001b[0m\u001b[0;34m\u001b[0m\u001b[0;34m\u001b[0m\u001b[0m\n\u001b[0;32m--> 205\u001b[0;31m       \u001b[0mresult\u001b[0m \u001b[0;34m=\u001b[0m \u001b[0mmethod\u001b[0m\u001b[0;34m(\u001b[0m\u001b[0mself\u001b[0m\u001b[0;34m,\u001b[0m \u001b[0;34m*\u001b[0m\u001b[0margs\u001b[0m\u001b[0;34m,\u001b[0m \u001b[0;34m**\u001b[0m\u001b[0mkwargs\u001b[0m\u001b[0;34m)\u001b[0m\u001b[0;34m\u001b[0m\u001b[0;34m\u001b[0m\u001b[0m\n\u001b[0m\u001b[1;32m    206\u001b[0m     \u001b[0;32mfinally\u001b[0m\u001b[0;34m:\u001b[0m\u001b[0;34m\u001b[0m\u001b[0;34m\u001b[0m\u001b[0m\n\u001b[1;32m    207\u001b[0m       \u001b[0mself\u001b[0m\u001b[0;34m.\u001b[0m\u001b[0m_self_setattr_tracking\u001b[0m \u001b[0;34m=\u001b[0m \u001b[0mprevious_value\u001b[0m  \u001b[0;31m# pylint: disable=protected-access\u001b[0m\u001b[0;34m\u001b[0m\u001b[0;34m\u001b[0m\u001b[0m\n",
            "\u001b[0;32m/usr/local/lib/python3.8/dist-packages/keras/engine/training_v1.py\u001b[0m in \u001b[0;36mcompile\u001b[0;34m(self, optimizer, loss, metrics, loss_weights, sample_weight_mode, weighted_metrics, target_tensors, distribute, **kwargs)\u001b[0m\n\u001b[1;32m    317\u001b[0m                 )\n\u001b[1;32m    318\u001b[0m \u001b[0;34m\u001b[0m\u001b[0m\n\u001b[0;32m--> 319\u001b[0;31m         \u001b[0mself\u001b[0m\u001b[0;34m.\u001b[0m\u001b[0m_set_optimizer\u001b[0m\u001b[0;34m(\u001b[0m\u001b[0moptimizer\u001b[0m\u001b[0;34m)\u001b[0m\u001b[0;34m\u001b[0m\u001b[0;34m\u001b[0m\u001b[0m\n\u001b[0m\u001b[1;32m    320\u001b[0m         is_any_keras_optimizer_v1 = any(\n\u001b[1;32m    321\u001b[0m             (\n",
            "\u001b[0;32m/usr/local/lib/python3.8/dist-packages/keras/engine/training_v1.py\u001b[0m in \u001b[0;36m_set_optimizer\u001b[0;34m(self, optimizer)\u001b[0m\n\u001b[1;32m   1469\u001b[0m             \u001b[0mself\u001b[0m\u001b[0;34m.\u001b[0m\u001b[0moptimizer\u001b[0m \u001b[0;34m=\u001b[0m \u001b[0;34m[\u001b[0m\u001b[0moptimizers\u001b[0m\u001b[0;34m.\u001b[0m\u001b[0mget\u001b[0m\u001b[0;34m(\u001b[0m\u001b[0mopt\u001b[0m\u001b[0;34m)\u001b[0m \u001b[0;32mfor\u001b[0m \u001b[0mopt\u001b[0m \u001b[0;32min\u001b[0m \u001b[0moptimizer\u001b[0m\u001b[0;34m]\u001b[0m\u001b[0;34m\u001b[0m\u001b[0;34m\u001b[0m\u001b[0m\n\u001b[1;32m   1470\u001b[0m         \u001b[0;32melse\u001b[0m\u001b[0;34m:\u001b[0m\u001b[0;34m\u001b[0m\u001b[0;34m\u001b[0m\u001b[0m\n\u001b[0;32m-> 1471\u001b[0;31m             \u001b[0mself\u001b[0m\u001b[0;34m.\u001b[0m\u001b[0moptimizer\u001b[0m \u001b[0;34m=\u001b[0m \u001b[0moptimizers\u001b[0m\u001b[0;34m.\u001b[0m\u001b[0mget\u001b[0m\u001b[0;34m(\u001b[0m\u001b[0moptimizer\u001b[0m\u001b[0;34m)\u001b[0m\u001b[0;34m\u001b[0m\u001b[0;34m\u001b[0m\u001b[0m\n\u001b[0m\u001b[1;32m   1472\u001b[0m \u001b[0;34m\u001b[0m\u001b[0m\n\u001b[1;32m   1473\u001b[0m         if self._dtype_policy.name == \"mixed_float16\" and not isinstance(\n",
            "\u001b[0;32m/usr/local/lib/python3.8/dist-packages/keras/optimizers/__init__.py\u001b[0m in \u001b[0;36mget\u001b[0;34m(identifier, **kwargs)\u001b[0m\n\u001b[1;32m    268\u001b[0m         \u001b[0;32melse\u001b[0m\u001b[0;34m:\u001b[0m\u001b[0;34m\u001b[0m\u001b[0;34m\u001b[0m\u001b[0m\n\u001b[1;32m    269\u001b[0m             \u001b[0;31m# If TF2 is disabled, we convert to the legacy optimizer.\u001b[0m\u001b[0;34m\u001b[0m\u001b[0;34m\u001b[0m\u001b[0;34m\u001b[0m\u001b[0m\n\u001b[0;32m--> 270\u001b[0;31m             \u001b[0;32mreturn\u001b[0m \u001b[0mconvert_to_legacy_optimizer\u001b[0m\u001b[0;34m(\u001b[0m\u001b[0midentifier\u001b[0m\u001b[0;34m)\u001b[0m\u001b[0;34m\u001b[0m\u001b[0;34m\u001b[0m\u001b[0m\n\u001b[0m\u001b[1;32m    271\u001b[0m \u001b[0;34m\u001b[0m\u001b[0m\n\u001b[1;32m    272\u001b[0m     \u001b[0;31m# Wrap legacy TF optimizer instances\u001b[0m\u001b[0;34m\u001b[0m\u001b[0;34m\u001b[0m\u001b[0;34m\u001b[0m\u001b[0m\n",
            "\u001b[0;32m/usr/local/lib/python3.8/dist-packages/keras/optimizers/__init__.py\u001b[0m in \u001b[0;36mconvert_to_legacy_optimizer\u001b[0;34m(optimizer)\u001b[0m\n\u001b[1;32m    211\u001b[0m         )\n\u001b[1;32m    212\u001b[0m     \u001b[0moptimizer_name\u001b[0m \u001b[0;34m=\u001b[0m \u001b[0moptimizer\u001b[0m\u001b[0;34m.\u001b[0m\u001b[0m__class__\u001b[0m\u001b[0;34m.\u001b[0m\u001b[0m__name__\u001b[0m\u001b[0;34m.\u001b[0m\u001b[0mlower\u001b[0m\u001b[0;34m(\u001b[0m\u001b[0;34m)\u001b[0m\u001b[0;34m\u001b[0m\u001b[0;34m\u001b[0m\u001b[0m\n\u001b[0;32m--> 213\u001b[0;31m     \u001b[0mconfig\u001b[0m \u001b[0;34m=\u001b[0m \u001b[0moptimizer\u001b[0m\u001b[0;34m.\u001b[0m\u001b[0mget_config\u001b[0m\u001b[0;34m(\u001b[0m\u001b[0;34m)\u001b[0m\u001b[0;34m\u001b[0m\u001b[0;34m\u001b[0m\u001b[0m\n\u001b[0m\u001b[1;32m    214\u001b[0m     \u001b[0;31m# Remove fields that only exist in experimental optimizer.\u001b[0m\u001b[0;34m\u001b[0m\u001b[0;34m\u001b[0m\u001b[0;34m\u001b[0m\u001b[0m\n\u001b[1;32m    215\u001b[0m     keys_to_remove = [\n",
            "\u001b[0;32m/usr/local/lib/python3.8/dist-packages/keras/optimizers/optimizer_experimental/adam.py\u001b[0m in \u001b[0;36mget_config\u001b[0;34m(self)\u001b[0m\n\u001b[1;32m    205\u001b[0m         config.update(\n\u001b[1;32m    206\u001b[0m             {\n\u001b[0;32m--> 207\u001b[0;31m                 \"learning_rate\": self._serialize_hyperparameter(\n\u001b[0m\u001b[1;32m    208\u001b[0m                     \u001b[0mself\u001b[0m\u001b[0;34m.\u001b[0m\u001b[0m_learning_rate\u001b[0m\u001b[0;34m\u001b[0m\u001b[0;34m\u001b[0m\u001b[0m\n\u001b[1;32m    209\u001b[0m                 ),\n",
            "\u001b[0;32m/usr/local/lib/python3.8/dist-packages/keras/optimizers/optimizer_experimental/optimizer.py\u001b[0m in \u001b[0;36m_serialize_hyperparameter\u001b[0;34m(self, hyperparameter)\u001b[0m\n\u001b[1;32m    716\u001b[0m             \u001b[0;32mreturn\u001b[0m \u001b[0mlearning_rate_schedule\u001b[0m\u001b[0;34m.\u001b[0m\u001b[0mserialize\u001b[0m\u001b[0;34m(\u001b[0m\u001b[0mhyperparameter\u001b[0m\u001b[0;34m)\u001b[0m\u001b[0;34m\u001b[0m\u001b[0;34m\u001b[0m\u001b[0m\n\u001b[1;32m    717\u001b[0m         \u001b[0;32mif\u001b[0m \u001b[0misinstance\u001b[0m\u001b[0;34m(\u001b[0m\u001b[0mhyperparameter\u001b[0m\u001b[0;34m,\u001b[0m \u001b[0mtf\u001b[0m\u001b[0;34m.\u001b[0m\u001b[0mVariable\u001b[0m\u001b[0;34m)\u001b[0m\u001b[0;34m:\u001b[0m\u001b[0;34m\u001b[0m\u001b[0;34m\u001b[0m\u001b[0m\n\u001b[0;32m--> 718\u001b[0;31m             \u001b[0;32mreturn\u001b[0m \u001b[0mhyperparameter\u001b[0m\u001b[0;34m.\u001b[0m\u001b[0mnumpy\u001b[0m\u001b[0;34m(\u001b[0m\u001b[0;34m)\u001b[0m\u001b[0;34m\u001b[0m\u001b[0;34m\u001b[0m\u001b[0m\n\u001b[0m\u001b[1;32m    719\u001b[0m         \u001b[0;32mif\u001b[0m \u001b[0mcallable\u001b[0m\u001b[0;34m(\u001b[0m\u001b[0mhyperparameter\u001b[0m\u001b[0;34m)\u001b[0m\u001b[0;34m:\u001b[0m\u001b[0;34m\u001b[0m\u001b[0;34m\u001b[0m\u001b[0m\n\u001b[1;32m    720\u001b[0m             \u001b[0;32mreturn\u001b[0m \u001b[0mhyperparameter\u001b[0m\u001b[0;34m(\u001b[0m\u001b[0;34m)\u001b[0m\u001b[0;34m\u001b[0m\u001b[0;34m\u001b[0m\u001b[0m\n",
            "\u001b[0;32m/usr/local/lib/python3.8/dist-packages/tensorflow/python/ops/resource_variable_ops.py\u001b[0m in \u001b[0;36mnumpy\u001b[0;34m(self)\u001b[0m\n\u001b[1;32m    638\u001b[0m     \u001b[0;32mif\u001b[0m \u001b[0mcontext\u001b[0m\u001b[0;34m.\u001b[0m\u001b[0mexecuting_eagerly\u001b[0m\u001b[0;34m(\u001b[0m\u001b[0;34m)\u001b[0m\u001b[0;34m:\u001b[0m\u001b[0;34m\u001b[0m\u001b[0;34m\u001b[0m\u001b[0m\n\u001b[1;32m    639\u001b[0m       \u001b[0;32mreturn\u001b[0m \u001b[0mself\u001b[0m\u001b[0;34m.\u001b[0m\u001b[0mread_value\u001b[0m\u001b[0;34m(\u001b[0m\u001b[0;34m)\u001b[0m\u001b[0;34m.\u001b[0m\u001b[0mnumpy\u001b[0m\u001b[0;34m(\u001b[0m\u001b[0;34m)\u001b[0m\u001b[0;34m\u001b[0m\u001b[0;34m\u001b[0m\u001b[0m\n\u001b[0;32m--> 640\u001b[0;31m     raise NotImplementedError(\n\u001b[0m\u001b[1;32m    641\u001b[0m         \"numpy() is only available when eager execution is enabled.\")\n\u001b[1;32m    642\u001b[0m \u001b[0;34m\u001b[0m\u001b[0m\n",
            "\u001b[0;31mNotImplementedError\u001b[0m: numpy() is only available when eager execution is enabled."
          ]
        }
      ]
    },
    {
      "cell_type": "code",
      "source": [
        "# Train\n",
        "model.fit(x, y, batch_size=64, epochs=5, verbose=1,validation_split=0.2, shuffle=True)"
      ],
      "metadata": {
        "colab": {
          "base_uri": "https://localhost:8080/",
          "height": 380
        },
        "id": "r3W5jSb4p9Hq",
        "outputId": "bdbd60ef-0842-4c0f-ed58-b2b848ebb6a6"
      },
      "execution_count": 12,
      "outputs": [
        {
          "output_type": "error",
          "ename": "AttributeError",
          "evalue": "ignored",
          "traceback": [
            "\u001b[0;31m---------------------------------------------------------------------------\u001b[0m",
            "\u001b[0;31mAttributeError\u001b[0m                            Traceback (most recent call last)",
            "\u001b[0;32m<ipython-input-12-a1174e813061>\u001b[0m in \u001b[0;36m<module>\u001b[0;34m\u001b[0m\n\u001b[1;32m      1\u001b[0m \u001b[0;31m# Train\u001b[0m\u001b[0;34m\u001b[0m\u001b[0;34m\u001b[0m\u001b[0;34m\u001b[0m\u001b[0m\n\u001b[0;32m----> 2\u001b[0;31m \u001b[0mmodel\u001b[0m\u001b[0;34m.\u001b[0m\u001b[0mfit\u001b[0m\u001b[0;34m(\u001b[0m\u001b[0mx\u001b[0m\u001b[0;34m,\u001b[0m \u001b[0my\u001b[0m\u001b[0;34m,\u001b[0m \u001b[0mbatch_size\u001b[0m\u001b[0;34m=\u001b[0m\u001b[0;36m64\u001b[0m\u001b[0;34m,\u001b[0m \u001b[0mepochs\u001b[0m\u001b[0;34m=\u001b[0m\u001b[0;36m5\u001b[0m\u001b[0;34m,\u001b[0m \u001b[0mverbose\u001b[0m\u001b[0;34m=\u001b[0m\u001b[0;36m1\u001b[0m\u001b[0;34m,\u001b[0m\u001b[0mvalidation_split\u001b[0m\u001b[0;34m=\u001b[0m\u001b[0;36m0.2\u001b[0m\u001b[0;34m,\u001b[0m \u001b[0mshuffle\u001b[0m\u001b[0;34m=\u001b[0m\u001b[0;32mTrue\u001b[0m\u001b[0;34m)\u001b[0m\u001b[0;34m\u001b[0m\u001b[0;34m\u001b[0m\u001b[0m\n\u001b[0m",
            "\u001b[0;32m/usr/local/lib/python3.8/dist-packages/keras/engine/training_v1.py\u001b[0m in \u001b[0;36mfit\u001b[0;34m(self, x, y, batch_size, epochs, verbose, callbacks, validation_split, validation_data, shuffle, class_weight, sample_weight, initial_epoch, steps_per_epoch, validation_steps, validation_freq, max_queue_size, workers, use_multiprocessing, **kwargs)\u001b[0m\n\u001b[1;32m    852\u001b[0m \u001b[0;34m\u001b[0m\u001b[0m\n\u001b[1;32m    853\u001b[0m         \u001b[0mfunc\u001b[0m \u001b[0;34m=\u001b[0m \u001b[0mself\u001b[0m\u001b[0;34m.\u001b[0m\u001b[0m_select_training_loop\u001b[0m\u001b[0;34m(\u001b[0m\u001b[0mx\u001b[0m\u001b[0;34m)\u001b[0m\u001b[0;34m\u001b[0m\u001b[0;34m\u001b[0m\u001b[0m\n\u001b[0;32m--> 854\u001b[0;31m         return func.fit(\n\u001b[0m\u001b[1;32m    855\u001b[0m             \u001b[0mself\u001b[0m\u001b[0;34m,\u001b[0m\u001b[0;34m\u001b[0m\u001b[0;34m\u001b[0m\u001b[0m\n\u001b[1;32m    856\u001b[0m             \u001b[0mx\u001b[0m\u001b[0;34m=\u001b[0m\u001b[0mx\u001b[0m\u001b[0;34m,\u001b[0m\u001b[0;34m\u001b[0m\u001b[0;34m\u001b[0m\u001b[0m\n",
            "\u001b[0;32m/usr/local/lib/python3.8/dist-packages/keras/engine/training_arrays_v1.py\u001b[0m in \u001b[0;36mfit\u001b[0;34m(self, model, x, y, batch_size, epochs, verbose, callbacks, validation_split, validation_data, shuffle, class_weight, sample_weight, initial_epoch, steps_per_epoch, validation_steps, validation_freq, **kwargs)\u001b[0m\n\u001b[1;32m    696\u001b[0m         )\n\u001b[1;32m    697\u001b[0m \u001b[0;34m\u001b[0m\u001b[0m\n\u001b[0;32m--> 698\u001b[0;31m         x, y, sample_weights = model._standardize_user_data(\n\u001b[0m\u001b[1;32m    699\u001b[0m             \u001b[0mx\u001b[0m\u001b[0;34m,\u001b[0m\u001b[0;34m\u001b[0m\u001b[0;34m\u001b[0m\u001b[0m\n\u001b[1;32m    700\u001b[0m             \u001b[0my\u001b[0m\u001b[0;34m,\u001b[0m\u001b[0;34m\u001b[0m\u001b[0;34m\u001b[0m\u001b[0m\n",
            "\u001b[0;32m/usr/local/lib/python3.8/dist-packages/keras/engine/training_v1.py\u001b[0m in \u001b[0;36m_standardize_user_data\u001b[0;34m(self, x, y, sample_weight, class_weight, batch_size, check_steps, steps_name, steps, validation_split, shuffle, extract_tensors_from_dataset)\u001b[0m\n\u001b[1;32m   2648\u001b[0m             \u001b[0;32mreturn\u001b[0m \u001b[0;34m[\u001b[0m\u001b[0;34m]\u001b[0m\u001b[0;34m,\u001b[0m \u001b[0;34m[\u001b[0m\u001b[0;34m]\u001b[0m\u001b[0;34m,\u001b[0m \u001b[0;32mNone\u001b[0m\u001b[0;34m\u001b[0m\u001b[0;34m\u001b[0m\u001b[0m\n\u001b[1;32m   2649\u001b[0m \u001b[0;34m\u001b[0m\u001b[0m\n\u001b[0;32m-> 2650\u001b[0;31m         return self._standardize_tensors(\n\u001b[0m\u001b[1;32m   2651\u001b[0m             \u001b[0mx\u001b[0m\u001b[0;34m,\u001b[0m\u001b[0;34m\u001b[0m\u001b[0;34m\u001b[0m\u001b[0m\n\u001b[1;32m   2652\u001b[0m             \u001b[0my\u001b[0m\u001b[0;34m,\u001b[0m\u001b[0;34m\u001b[0m\u001b[0;34m\u001b[0m\u001b[0m\n",
            "\u001b[0;32m/usr/local/lib/python3.8/dist-packages/keras/engine/training_v1.py\u001b[0m in \u001b[0;36m_standardize_tensors\u001b[0;34m(self, x, y, sample_weight, run_eagerly, dict_inputs, is_dataset, class_weight, batch_size)\u001b[0m\n\u001b[1;32m   2737\u001b[0m             \u001b[0;31m# model outputs.\u001b[0m\u001b[0;34m\u001b[0m\u001b[0;34m\u001b[0m\u001b[0;34m\u001b[0m\u001b[0m\n\u001b[1;32m   2738\u001b[0m             training_utils_v1.prepare_sample_weight_modes(\n\u001b[0;32m-> 2739\u001b[0;31m                 \u001b[0mself\u001b[0m\u001b[0;34m.\u001b[0m\u001b[0m_training_endpoints\u001b[0m\u001b[0;34m,\u001b[0m \u001b[0mself\u001b[0m\u001b[0;34m.\u001b[0m\u001b[0msample_weight_mode\u001b[0m\u001b[0;34m\u001b[0m\u001b[0;34m\u001b[0m\u001b[0m\n\u001b[0m\u001b[1;32m   2740\u001b[0m             )\n\u001b[1;32m   2741\u001b[0m             \u001b[0mfeed_output_names\u001b[0m \u001b[0;34m=\u001b[0m \u001b[0mself\u001b[0m\u001b[0;34m.\u001b[0m\u001b[0m_feed_output_names\u001b[0m\u001b[0;34m\u001b[0m\u001b[0;34m\u001b[0m\u001b[0m\n",
            "\u001b[0;31mAttributeError\u001b[0m: 'Sequential' object has no attribute '_training_endpoints'"
          ]
        }
      ]
    },
    {
      "cell_type": "code",
      "source": [],
      "metadata": {
        "id": "gnmmdnJWqBSB"
      },
      "execution_count": null,
      "outputs": []
    }
  ]
}